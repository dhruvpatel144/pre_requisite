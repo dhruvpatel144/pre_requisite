{
  "nbformat": 4,
  "nbformat_minor": 0,
  "metadata": {
    "colab": {
      "provenance": []
    },
    "kernelspec": {
      "name": "python3",
      "display_name": "Python 3"
    },
    "language_info": {
      "name": "python"
    }
  },
  "cells": [
    {
      "cell_type": "markdown",
      "source": [
        "Q.1 How many multiplications and additions do you need to perform a matrix multiplication between a (n, k) and (k, m) matrix? Explain.\n",
        " \n",
        "Addition: $n\\times m\\times (k-1)$\n",
        "\n",
        "Multiplication: $n\\times m\\times k$\n",
        "\n",
        "For each entry in the resulting/output matrix $k-1$ additions and $k$ multiplications have to be performed. Total number of entries in the resulting/output matrix is $n \\times m$. \n"
      ],
      "metadata": {
        "id": "nGLqaNKGbJLd"
      }
    },
    {
      "cell_type": "markdown",
      "source": [
        "Q.2 Write Python code to multiply the above two matrices. Solve using list of lists and then use numpy. Compare the timing of both solutions. Which one is faster? Why?\n",
        "\n",
        "NumPy matrix multiplication is faster than a loop-based approach $O(n^3)$ because it is implemented in C, takes advantage of hardware optimizations, and uses optimized algorithms specifically designed for matrix multiplication."
      ],
      "metadata": {
        "id": "i7cCxAlnwx63"
      }
    },
    {
      "cell_type": "code",
      "execution_count": null,
      "metadata": {
        "id": "6r34ZiFtbDGr"
      },
      "outputs": [],
      "source": [
        "import numpy as np\n",
        "n = 10\n",
        "k = 15\n",
        "m = 12\n",
        "np.random.seed(0)\n",
        "m1 =  np.random.randint(low =1000, high = 10000,size = (n,k))\n",
        "np.random.seed(1)\n",
        "m2 = np.random.randint(low =1000, high =10000, size = (k,m))\n",
        "# print(m1)\n",
        "# print(m2)\n"
      ]
    },
    {
      "cell_type": "code",
      "source": [
        "import time\n",
        "p=np.zeros((n,m))\n",
        "def matrix_mul(m1,m2):\n",
        "  for i in range(0, n):\n",
        "      for j in range(0, m):\n",
        "          for l in range(0, k):\n",
        "              p[i][j] += m1[i][l] * m2[l][j]\n",
        "time1 = 0\n",
        "std_dev = 0\n",
        "for i in range(1000):\n",
        "  start = time.perf_counter()\n",
        "  matrix_mul(m1,m2)\n",
        "  end = time.perf_counter()\n",
        "  time1+=end-start\n",
        "  std_dev+= (end-start)**2\n",
        "time1 = time1/1000\n",
        "std_dev = std_dev/1000\n",
        "std_dev = np.sqrt((std_dev - time1**2))*10**6\n",
        "time1 = time1*(10**6)\n",
        "print('Mean time for list of list matrix multiplication is ' + str(time1) +' milliseconds')\n",
        "print('The std_dev is '+ str(std_dev) +'milliseconds')\n",
        "\n"
      ],
      "metadata": {
        "colab": {
          "base_uri": "https://localhost:8080/"
        },
        "id": "P815BK0CHnQz",
        "outputId": "5de91940-1f54-4ef0-b174-327b4eec59db"
      },
      "execution_count": null,
      "outputs": [
        {
          "output_type": "stream",
          "name": "stdout",
          "text": [
            "Mean time for list of list matrix multiplication is 1331.8911310020667 milliseconds\n",
            "The std_dev is 201.19465356673365milliseconds\n"
          ]
        }
      ]
    },
    {
      "cell_type": "code",
      "source": [
        "time_array = np.zeros((1000,))\n",
        "for i in range(1000):\n",
        "  start1 = time.perf_counter()\n",
        "  q = np.matmul(m1,m2)\n",
        "  end1 = time.perf_counter()\n",
        "  time_array[i] = end1-start1\n",
        "print('Mean time for numpy inbuilt matrix multiplication is ' + str(time_array.mean()*(10**6)) +' milliseconds')\n",
        "print('The std_dev is '+ str(time_array.std()*(10**6))+' milliseconds')"
      ],
      "metadata": {
        "colab": {
          "base_uri": "https://localhost:8080/"
        },
        "id": "Tn-PfbNRK6AS",
        "outputId": "498c6814-ab9a-44cc-95d4-2bfb6bcf3af5"
      },
      "execution_count": null,
      "outputs": [
        {
          "output_type": "stream",
          "name": "stdout",
          "text": [
            "Mean time for numpy inbuilt matrix multiplication is 4.43959100630309 milliseconds\n",
            "The std_dev is 1.5134741022760378 milliseconds\n"
          ]
        }
      ]
    },
    {
      "cell_type": "markdown",
      "source": [
        "Q.3 Finding the highest element in a list requires one pass of the array. Finding the second highest element requires 2 passes of the the array. Using this method, what is the time complexity of finding the median of the array? Can you suggest a better method? Can you implement both these methods in Python and compare against numpy.median routine in terms of time?\n",
        "\n",
        "Answer : Using this method the time complexity of finding the median would be $O(n^2)$, as we will be going through the entire array $n/2$ times and each pass has $O(n)$ time complexity. The naive approach with the worst time complexity of $O(n\\cdot log(n))$. In this approach, we sort the array and if number of elements is even then average of $A[n//2]$ and $A[n//2+1]$ and if odd number of elements then median will be $A[n//2+1]$. The other approach is of average $O(n)$ runtime. Below is it's algorithm:\n"
      ],
      "metadata": {
        "id": "aUReBrdXMPaE"
      }
    },
    {
      "cell_type": "code",
      "source": [
        "#O(n**2)\n",
        "np.random.seed(3)\n",
        "a = list(np.random.randint(low = 1, high = 30, size = (10,)))\n",
        "# print(a)\n",
        "def middle_element(a):\n",
        "  n = len(a)\n",
        "  if(n%2==0):\n",
        "    max = n//2\n",
        "    while(max>=0):\n",
        "      p = 0\n",
        "      for i in range(len(a)):\n",
        "        if(a[i]>p):\n",
        "          p = a[i]\n",
        "      a.remove(p)\n",
        "      if(max==1):\n",
        "        q = p\n",
        "      max-=1\n",
        "    return((p+q)/2)\n",
        "  else:\n",
        "    max = n//2 -1\n",
        "    while(max>=0):\n",
        "      p =0\n",
        "      for i in range(len(a)):\n",
        "        if(a[i]>p):\n",
        "          p =a[i]\n",
        "      a.remove(p)\n",
        "      max-=1\n",
        "    return p\n",
        "ans = middle_element(a)\n",
        "print(ans)"
      ],
      "metadata": {
        "id": "Qdjl0K6kInD9",
        "colab": {
          "base_uri": "https://localhost:8080/"
        },
        "outputId": "a2bd31a3-426a-4d4c-ee6a-78a8cedd154b"
      },
      "execution_count": null,
      "outputs": [
        {
          "output_type": "stream",
          "name": "stdout",
          "text": [
            "15.5\n"
          ]
        }
      ]
    },
    {
      "cell_type": "code",
      "source": [
        "#using inbuilt sort\n",
        "np.random.seed(3)\n",
        "a = list(np.random.randint(low = 1, high = 30, size = (10,)))\n",
        "def sort_median(a):\n",
        "  n = len(a)\n",
        "  a = sorted (a)\n",
        "  if (n%2==0):\n",
        "    return ((a[n//2-1]+a[n//2])/2)\n",
        "  else:\n",
        "    return a[n//2-1]\n",
        "ans = sort_median(a)\n",
        "ans\n"
      ],
      "metadata": {
        "colab": {
          "base_uri": "https://localhost:8080/"
        },
        "id": "9PF5KoGxGFT1",
        "outputId": "6e2d38a4-f1b4-4d23-dc48-fd8b8b8cea27"
      },
      "execution_count": null,
      "outputs": [
        {
          "output_type": "execute_result",
          "data": {
            "text/plain": [
              "15.5"
            ]
          },
          "metadata": {},
          "execution_count": 44
        }
      ]
    },
    {
      "cell_type": "code",
      "source": [
        "# time analysis\n",
        "time1 = np.zeros((1000,))\n",
        "time2 = np.zeros((1000,))\n",
        "time3 = np.zeros((1000,))\n",
        "\n",
        "for i in range(1000):\n",
        "\n",
        "  np.random.seed(3)\n",
        "  a = list(np.random.randint(low = 1, high = 10000, size = (100,)))\n",
        "  start = time.perf_counter()\n",
        "  middle_element(a)\n",
        "  end = time.perf_counter()\n",
        "  time1[i] = end-start\n",
        "\n",
        "  np.random.seed(3)\n",
        "  a = list(np.random.randint(low = 1, high = 10000, size = (100,)))\n",
        "  start2 = time.perf_counter()\n",
        "  sort_median(a)\n",
        "  end2 = time.perf_counter()\n",
        "  time2[i] = end2-start2\n",
        "\n",
        "  np.random.seed(3)\n",
        "  a = list(np.random.randint(low = 1, high = 10000, size = (100,)))\n",
        "  start3 = time.perf_counter()\n",
        "  np.median(a)\n",
        "  end3 = time.perf_counter()\n",
        "  time3[i] = end3-start3\n",
        "\n",
        "print(\"The mean time for O(n^2) approach is \"+str(time1.mean())+\" seconds\")\n",
        "print(\"The std for O(n^2) approach is \"+str(time1.std())+\" seconds\")\n",
        "\n",
        "print(\"The mean time for O(nlog(n)) approach is \"+str(time2.mean())+\" seconds\")\n",
        "print(\"The std for O(nlog(n)) approach is \"+str(time2.std())+\" seconds\")\n",
        "\n",
        "print(\"The mean time for inbuilt median approach is \"+str(time3.mean())+\" seconds\")\n",
        "print(\"The std for inbuilt median approach is \"+str(time3.std())+\" seconds\")"
      ],
      "metadata": {
        "colab": {
          "base_uri": "https://localhost:8080/"
        },
        "id": "lG3hLJ8aQX9A",
        "outputId": "7b38f205-ecfa-42c0-fcbf-85eeb47be675"
      },
      "execution_count": null,
      "outputs": [
        {
          "output_type": "stream",
          "name": "stdout",
          "text": [
            "The mean time for O(n^2) approach is 0.00038461270102379787 seconds\n",
            "The std for O(n^2) approach is 0.0002723150543409825 seconds\n",
            "The mean time for O(nlog(n)) approach is 1.9469574031973023e-05 seconds\n",
            "The std for O(nlog(n)) approach is 2.3568454575506166e-05 seconds\n",
            "The mean time for inbuilt median approach is 4.589497801316611e-05 seconds\n",
            "The std for inbuilt median approach is 4.573850663408885e-05 seconds\n"
          ]
        }
      ]
    },
    {
      "cell_type": "markdown",
      "source": [
        "Q.4. What is the gradient of the following function with respect to x and y?\n",
        "\n",
        "Answer:\n",
        "\\\n",
        "Gradient with respect to $x$ is $2xy + y^3 cos(x)$\n",
        "\n",
        "Gradient with respect to $y$ is $x^2 + 3y^2 sin(x)$"
      ],
      "metadata": {
        "id": "aWhMC95PIhAF"
      }
    },
    {
      "cell_type": "markdown",
      "source": [
        "Q.5 Use JAX to confirm the gradient evaluated by your method matches the analytical solution corresponding to a few random values of x and y."
      ],
      "metadata": {
        "id": "nyFd50_3UfLs"
      }
    },
    {
      "cell_type": "code",
      "source": [
        "import jax\n",
        "import jax.numpy as jnp\n",
        "def gradient(params):\n",
        "  x = params[0]\n",
        "  y = params[1]\n",
        "  g1,g2 = 2*x*y + (y**3)*(np.cos(x)), x**2 + 3*(y**2)*(jnp.sin(x))\n",
        "  return g1,g2\n",
        "\n",
        "def f(params):\n",
        "  x,y = params[0], params[1]\n",
        "  return x**2*(y) + y**3*(jnp.sin(x))\n",
        "\n",
        "\n",
        "def jax_gradient(params,f):\n",
        "  grad = jax.grad(f, argnums = 0)\n",
        "  g1, g2 = grad(params)\n",
        "  return g1,g2\n",
        "\n",
        "print(gradient([3.,4.]))\n",
        "print(jax_gradient([3.,4.],f))"
      ],
      "metadata": {
        "colab": {
          "base_uri": "https://localhost:8080/"
        },
        "id": "7g14ssgr2fv3",
        "outputId": "26bfee2d-38bc-4625-ee0b-456d3cca8029"
      },
      "execution_count": null,
      "outputs": [
        {
          "output_type": "stream",
          "name": "stdout",
          "text": [
            "(-39.35951978242851, DeviceArray(15.77376, dtype=float32, weak_type=True))\n",
            "(DeviceArray(-39.35952, dtype=float32, weak_type=True), DeviceArray(15.77376, dtype=float32, weak_type=True))\n"
          ]
        }
      ]
    },
    {
      "cell_type": "markdown",
      "source": [
        "Q.6 Use sympy to confirm that you obtain the same gradient analytically."
      ],
      "metadata": {
        "id": "PSfNB3ybVGeS"
      }
    },
    {
      "cell_type": "code",
      "source": [
        "import sympy as sp\n",
        "x, y = sp.symbols('x y')\n",
        "f = x**2*(y) + y**3*(sp.sin(x))\n",
        "sp.diff(f,x), sp.diff(f,y)\n"
      ],
      "metadata": {
        "colab": {
          "base_uri": "https://localhost:8080/"
        },
        "id": "kKOUiC-ZMOM6",
        "outputId": "196dcc13-36ec-48a7-f872-4bf578417363"
      },
      "execution_count": null,
      "outputs": [
        {
          "output_type": "execute_result",
          "data": {
            "text/plain": [
              "(2*x*y + y**3*cos(x), x**2 + 3*y**2*sin(x))"
            ]
          },
          "metadata": {},
          "execution_count": 61
        }
      ]
    },
    {
      "cell_type": "markdown",
      "source": [
        "Q.7 Create a Python nested dictionary to represent hierarchical information. We want to store record of students and their marks."
      ],
      "metadata": {
        "id": "teH2gwq9XDaq"
      }
    },
    {
      "cell_type": "code",
      "source": [
        "records = {\n",
        "    2022: {\n",
        "        \"Branch 1\": {\n",
        "            1: {\n",
        "                \"Name\": \"N\",\n",
        "                \"Marks\": {\n",
        "                    \"Maths\": 100,\n",
        "                    \"English\": 70\n",
        "                }\n",
        "            }\n",
        "        },\n",
        "        \"Branch 2\": {}\n",
        "    },\n",
        "    2023: {\n",
        "        \"Branch 1\": {},\n",
        "        \"Branch 2\": {}\n",
        "    },\n",
        "    2024: {\n",
        "        \"Branch 1\": {},\n",
        "        \"Branch 2\": {}\n",
        "    },\n",
        "    2025: {\n",
        "        \"Branch 1\": {},\n",
        "        \"Branch 2\": {}\n",
        "    }\n",
        "}"
      ],
      "metadata": {
        "id": "tdd3TmVVWimo"
      },
      "execution_count": null,
      "outputs": []
    },
    {
      "cell_type": "markdown",
      "source": [
        "Q.8 Store the same information using Python classes. We have an overall database which is a list of year objects. Each year contains a list of branches. Each branch contains a list of students. Each student has some properties like name, roll number and has marks in some subjects."
      ],
      "metadata": {
        "id": "Gx-Hagh5YbAD"
      }
    },
    {
      "cell_type": "code",
      "source": [
        "class Student:\n",
        "    def __init__(self, roll_number, name, marks):\n",
        "        self.roll_number = roll_number\n",
        "        self.name = name\n",
        "        self.marks = marks\n",
        "\n",
        "class Branch:\n",
        "    def __init__(self, name, students):\n",
        "        self.name = name\n",
        "        self.students = students\n",
        "\n",
        "class Year:\n",
        "    def __init__(self, year, branches):\n",
        "        self.year = year\n",
        "        self.branches = branches\n",
        "\n",
        "database = [\n",
        "    Year(2022, [Branch('Branch 1', [Student(1, 'N', {'Maths': 100, 'English': 70}),Student(2, 'M', {'Maths': 85, 'Science': 101})]),Branch('Branch 2', []),]),\n",
        "    Year(2023, [Branch('Branch 1', []),Branch('Branch 2', []),]),\n",
        "    Year(2024, [Branch('Branch 1', []),Branch('Branch 2', []),]),\n",
        "    Year(2025, [Branch('Branch 1', []),Branch('Branch 2', []),]),\n",
        "]\n",
        "\n",
        "print(database[0].branches[0].students[1].marks)"
      ],
      "metadata": {
        "colab": {
          "base_uri": "https://localhost:8080/"
        },
        "id": "XAPrYxUkjwF_",
        "outputId": "4385bdda-6fb2-43c6-c17b-b036e7748889"
      },
      "execution_count": 3,
      "outputs": [
        {
          "output_type": "stream",
          "name": "stdout",
          "text": [
            "{'Maths': 85, 'Science': 101}\n"
          ]
        }
      ]
    },
    {
      "cell_type": "markdown",
      "source": [
        "Q.9 Using matplotlib plot the following functions on the domain: x = 0.5 to 100.0 in steps of 0.5."
      ],
      "metadata": {
        "id": "BSDLeb2XjuOi"
      }
    },
    {
      "cell_type": "code",
      "source": [
        "import matplotlib.pyplot as plt\n",
        "x = np.linspace(0.5, 100,200)\n",
        "f1 = x\n",
        "f2 = x**2\n",
        "f3 = x**3/100\n",
        "f4 = np.sin(x)\n",
        "f5 = np.sin(x)/x\n",
        "f6 = np.log(x)\n",
        "f7 = np.exp(x)\n",
        "fig, axs = plt.subplots(4,2, figsize = (10,10))\n",
        "axs[0,0].plot(x,f1, label = 'f1')\n",
        "axs[0,1].plot(x,f2, label = 'f2')\n",
        "axs[1,0].plot(x,f3, label = 'f3')\n",
        "axs[1,1].plot(x,f4, label = 'f4')\n",
        "axs[2,0].plot(x,f5, label ='f5')\n",
        "axs[2,1].plot(x,f6, label = 'f6')\n",
        "axs[3,0].plot(x,f7, label = 'f7')\n",
        "plt.legend()"
      ],
      "metadata": {
        "colab": {
          "base_uri": "https://localhost:8080/",
          "height": 627
        },
        "id": "6bB1VM-eaabA",
        "outputId": "7aa86187-3824-4f63-c0ad-800acc8bae2b"
      },
      "execution_count": 16,
      "outputs": [
        {
          "output_type": "stream",
          "name": "stderr",
          "text": [
            "WARNING:matplotlib.legend:No handles with labels found to put in legend.\n"
          ]
        },
        {
          "output_type": "execute_result",
          "data": {
            "text/plain": [
              "<matplotlib.legend.Legend at 0x7faf507600d0>"
            ]
          },
          "metadata": {},
          "execution_count": 16
        },
        {
          "output_type": "display_data",
          "data": {
            "text/plain": [
              "<Figure size 720x720 with 8 Axes>"
            ],
            "image/png": "[encoded data removed]"
          },
          "metadata": {
            "needs_background": "light"
          }
        }
      ]
    },
    {
      "cell_type": "markdown",
      "source": [
        "Q.10 Using numpy generate a matrix of size 20X5 containing random numbers drawn uniformly from the range of 1 to 2. Using Pandas create a dataframe out of this matrix. Name the columns of the dataframe as “a”, “b”, “c”, “d”, “e”. Find the column with the highest standard deviation. Find the row with the lowest mean"
      ],
      "metadata": {
        "id": "8Mi0sX6fuf6k"
      }
    },
    {
      "cell_type": "code",
      "source": [
        "import numpy as np\n",
        "import pandas as pd\n",
        "np.random.seed(4)\n",
        "matrix = np.random.uniform(1, 2, size=(20, 5))\n",
        "df = pd.DataFrame(matrix, columns=[\"a\", \"b\", \"c\", \"d\", \"e\"])\n",
        "std = df.std(axis =0)\n",
        "mean = df.mean(axis =1)\n",
        "col_max_std = std.idxmax()\n",
        "row_min_mean = mean.idxmin()\n",
        "print(f\"Column with highest standard deviation: {col_max_std}\")\n",
        "print(f\"Row with lowest mean: {row_min_mean}\")\n"
      ],
      "metadata": {
        "id": "zA4W6WKecszz",
        "colab": {
          "base_uri": "https://localhost:8080/"
        },
        "outputId": "97a8882d-133e-4bc5-800d-adc820bef867"
      },
      "execution_count": 4,
      "outputs": [
        {
          "output_type": "stream",
          "name": "stdout",
          "text": [
            "Column with highest standard deviation: b\n",
            "Row with lowest mean: 1\n"
          ]
        }
      ]
    },
    {
      "cell_type": "markdown",
      "source": [
        "Q.11 Add a new column to the dataframe called “f” which is the sum of the columns “a”, “b”, “c”, “d”, “e”. Create another column called “g”. The value in the column “g” should be “LT8” if the value in the column “f” is less than 8 and “GT8” otherwise. Find the number of rows in the dataframe where the value in the column “g” is “LT8”. Find the standard deviation of the column “f” for the rows where the value in the column “g” is “LT8” and “GT8” respectively."
      ],
      "metadata": {
        "id": "jZ2paF3quh9k"
      }
    },
    {
      "cell_type": "code",
      "source": [
        "df[\"f\"] = df[[\"a\", \"b\", \"c\", \"d\", \"e\"]].sum(axis=1)\n",
        "df[\"g\"] = np.where(df[\"f\"] < 8, \"LT8\", \"GT8\")\n",
        "\n",
        "lt8_rows = df.loc[df[\"g\"] == \"LT8\"]\n",
        "num_lt8_rows = lt8_rows.shape[0]\n",
        "lt8_std = df.loc[df[\"g\"] == \"LT8\", \"f\"].std()\n",
        "gt8_std = df.loc[df[\"g\"] == \"GT8\", \"f\"].std()\n",
        "print(f\"Number of rows where the value in the column 'g' is 'LT8': {num_lt8_rows}\")\n",
        "print(f\"Standard deviation of the column 'f' for the rows where the value in the column 'g' is 'LT8': {lt8_std}\")\n",
        "print(f\"Standard deviation of the column 'f' for the rows where the value in the column 'g' is 'GT8': {gt8_std}\")"
      ],
      "metadata": {
        "colab": {
          "base_uri": "https://localhost:8080/"
        },
        "id": "JSqTCjRmanR5",
        "outputId": "82ff65fa-5a0e-4177-8db3-7709691cf2f5"
      },
      "execution_count": 11,
      "outputs": [
        {
          "output_type": "stream",
          "name": "stdout",
          "text": [
            "Number of rows where the value in the column 'g' is 'LT8': 16\n",
            "Standard deviation of the column 'f' for the rows where the value in the column 'g' is 'LT8': 0.3464567183148825\n",
            "Standard deviation of the column 'f' for the rows where the value in the column 'g' is 'GT8': 0.3779397117147639\n"
          ]
        }
      ]
    },
    {
      "cell_type": "markdown",
      "source": [
        "Q.12 Write a small piece of code to explain broadcasting in numpy."
      ],
      "metadata": {
        "id": "0hgyCxGEulmG"
      }
    },
    {
      "cell_type": "code",
      "source": [
        "\n",
        "# Create a 2x3 array\n",
        "a = np.array([[1, 2, 3], [4, 5, 6]])\n",
        "print(f\"Array 'a': {a}\")\n",
        "\n",
        "# Create a 1x3 array\n",
        "b = np.array([7, 8, 9])\n",
        "print(f\"Array 'b': {b}\")\n",
        "\n",
        "# Add the two arrays together\n",
        "c = a + b\n",
        "print(f\"Array 'c': {c}\")"
      ],
      "metadata": {
        "id": "KNrZ8EOled-6"
      },
      "execution_count": null,
      "outputs": []
    },
    {
      "cell_type": "markdown",
      "source": [
        "Q.13 Write a function to compute the argmin of a numpy array. The function should take a numpy array as input and return the index of the minimum element. You can use the np.argmin function to verify your solution."
      ],
      "metadata": {
        "id": "nDSyX_ievtY3"
      }
    },
    {
      "cell_type": "code",
      "source": [
        "def argmin(a):\n",
        "  n = len(a)\n",
        "  min = a[0]\n",
        "  idx = 0\n",
        "  for i in range(1, n):\n",
        "    if(a[i]<min):\n",
        "      min = a[i]\n",
        "      idx = i\n",
        "  return idx\n",
        "\n",
        "a = np.random.randint(low = 10, high = 100, size = (20, ))\n",
        "answer = argmin(a)\n",
        "print(answer, np.argmin(a))\n",
        "\n",
        "\n",
        "\n",
        "\n"
      ],
      "metadata": {
        "colab": {
          "base_uri": "https://localhost:8080/"
        },
        "id": "OoRx4p5Xu1ig",
        "outputId": "45757155-0038-4cfd-e587-b6d6a5d39cb9"
      },
      "execution_count": 15,
      "outputs": [
        {
          "output_type": "stream",
          "name": "stdout",
          "text": [
            "16 16\n"
          ]
        }
      ]
    },
    {
      "cell_type": "code",
      "source": [],
      "metadata": {
        "id": "07F_2zc_vCR7"
      },
      "execution_count": null,
      "outputs": []
    }
  ]
}